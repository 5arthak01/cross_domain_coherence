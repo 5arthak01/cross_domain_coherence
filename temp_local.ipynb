{
 "cells": [
  {
   "cell_type": "code",
   "execution_count": 43,
   "metadata": {},
   "outputs": [],
   "source": [
    "import json\n",
    "import pandas as pd\n",
    "import numpy as np\n",
    "import os\n",
    "from itertools import product"
   ]
  },
  {
   "cell_type": "code",
   "execution_count": 44,
   "metadata": {},
   "outputs": [
    {
     "data": {
      "text/plain": [
       "[(0, ('discrimination', False, None, 'average_glove')),\n",
       " (1, ('discrimination', False, None, 'sbert')),\n",
       " (2, ('discrimination', False, 'tanh', 'average_glove')),\n",
       " (3, ('discrimination', False, 'tanh', 'sbert')),\n",
       " (4, ('discrimination', False, 'sigmoid', 'average_glove')),\n",
       " (5, ('discrimination', False, 'sigmoid', 'sbert')),\n",
       " (6, ('discrimination', True, None, 'average_glove')),\n",
       " (7, ('discrimination', True, None, 'sbert')),\n",
       " (8, ('discrimination', True, 'tanh', 'average_glove')),\n",
       " (9, ('discrimination', True, 'tanh', 'sbert')),\n",
       " (10, ('discrimination', True, 'sigmoid', 'average_glove')),\n",
       " (11, ('discrimination', True, 'sigmoid', 'sbert')),\n",
       " (12, ('insertion', False, None, 'average_glove')),\n",
       " (13, ('insertion', False, None, 'sbert')),\n",
       " (14, ('insertion', False, 'tanh', 'average_glove')),\n",
       " (15, ('insertion', False, 'tanh', 'sbert')),\n",
       " (16, ('insertion', False, 'sigmoid', 'average_glove')),\n",
       " (17, ('insertion', False, 'sigmoid', 'sbert')),\n",
       " (18, ('insertion', True, None, 'average_glove')),\n",
       " (19, ('insertion', True, None, 'sbert')),\n",
       " (20, ('insertion', True, 'tanh', 'average_glove')),\n",
       " (21, ('insertion', True, 'tanh', 'sbert')),\n",
       " (22, ('insertion', True, 'sigmoid', 'average_glove')),\n",
       " (23, ('insertion', True, 'sigmoid', 'sbert'))]"
      ]
     },
     "execution_count": 44,
     "metadata": {},
     "output_type": "execute_result"
    }
   ],
   "source": [
    "scorer = [None, \"tanh\", \"sigmoid\"]\n",
    "encoders = [\"average_glove\", \"sbert\"]\n",
    "tasks = [\"discrimination\", \"insertion\"]\n",
    "bidirect = [False, True]\n",
    "\n",
    "\n",
    "def scorer_name(scorer):\n",
    "    if scorer is None:\n",
    "        return \"None\"\n",
    "    else:\n",
    "        return scorer\n",
    "\n",
    "\n",
    "# !!!!!!!!!!!!!!!!!!!!!!!!!!!!!!!!\n",
    "# ORDER IN product() IS IMPORTANT\n",
    "list(enumerate(product(tasks, bidirect, scorer, encoders)))"
   ]
  },
  {
   "cell_type": "code",
   "execution_count": 46,
   "metadata": {},
   "outputs": [
    {
     "name": "stdout",
     "output_type": "stream",
     "text": [
      "0 |  discrimination |  False |  None |  average_glove\n",
      "1 |  discrimination |  False |  None |  sbert\n",
      "2 |  discrimination |  False |  tanh |  average_glove\n",
      "3 |  discrimination |  False |  tanh |  sbert\n",
      "4 |  discrimination |  False |  sigmoid |  average_glove\n",
      "5 |  discrimination |  False |  sigmoid |  sbert\n",
      "6 |  discrimination |  True |  None |  average_glove\n",
      "7 |  discrimination |  True |  None |  sbert\n",
      "8 |  discrimination |  True |  tanh |  average_glove\n",
      "9 |  discrimination |  True |  tanh |  sbert\n",
      "10 |  discrimination |  True |  sigmoid |  average_glove\n",
      "11 |  discrimination |  True |  sigmoid |  sbert\n",
      "12 |  insertion |  False |  None |  average_glove\n",
      "13 |  insertion |  False |  None |  sbert\n",
      "14 |  insertion |  False |  tanh |  average_glove\n",
      "15 |  insertion |  False |  tanh |  sbert\n",
      "16 |  insertion |  False |  sigmoid |  average_glove\n",
      "17 |  insertion |  False |  sigmoid |  sbert\n",
      "18 |  insertion |  True |  None |  average_glove\n",
      "19 |  insertion |  True |  None |  sbert\n",
      "20 |  insertion |  True |  tanh |  average_glove\n",
      "21 |  insertion |  True |  tanh |  sbert\n",
      "22 |  insertion |  True |  sigmoid |  average_glove\n",
      "23 |  insertion |  True |  sigmoid |  sbert\n"
     ]
    }
   ],
   "source": [
    "def print_list(l):\n",
    "    for x in l:\n",
    "        print(\" | \", x, end=\"\")\n",
    "    print()\n",
    "for i, x in enumerate(product(tasks, bidirect, scorer, encoders)):\n",
    "    print(i, end=\"\")\n",
    "    print_list(x)"
   ]
  },
  {
   "cell_type": "code",
   "execution_count": 8,
   "metadata": {},
   "outputs": [
    {
     "name": "stdout",
     "output_type": "stream",
     "text": [
      "[0.5, 0.6, 0.7] [1, 2] [0.2, 0.30000000000000004, 0.4000000000000001] [4.0, 5.0, 6.0] [0.0, 0.1] [0.0, 0.05, 0.1] ['insertion']\n"
     ]
    }
   ],
   "source": [
    "input_dropout = np.arange(0.5, 0.71, 0.1).tolist()\n",
    "hidden_layers = np.arange(1, 3).tolist()\n",
    "hidden_dropout = np.arange(0.2, 0.41, 0.1).tolist()\n",
    "margin = np.arange(4, 6.1, 1).tolist()\n",
    "l2_reg_lambda = np.arange(0, 0.11, 0.1).tolist()\n",
    "dpout_model = np.arange(0, 0.11, 0.05).tolist()\n",
    "task = [\"insertion\"]\n",
    "\n",
    "print(\n",
    "        input_dropout,\n",
    "        hidden_layers,\n",
    "        hidden_dropout,\n",
    "        margin,\n",
    "        l2_reg_lambda,\n",
    "        dpout_model,\n",
    "        task,\n",
    "    )"
   ]
  },
  {
   "cell_type": "code",
   "execution_count": 9,
   "metadata": {},
   "outputs": [
    {
     "data": {
      "text/plain": [
       "(60, (0.5, 2, 0.2, 5.0, 0.0, 0.0, 'insertion'))"
      ]
     },
     "execution_count": 9,
     "metadata": {},
     "output_type": "execute_result"
    }
   ],
   "source": [
    "list(enumerate(\n",
    "    product(\n",
    "        input_dropout,\n",
    "        hidden_layers,\n",
    "        hidden_dropout,\n",
    "        margin,\n",
    "        l2_reg_lambda,\n",
    "        dpout_model,\n",
    "        task,\n",
    "    )\n",
    "))[60]"
   ]
  },
  {
   "cell_type": "code",
   "execution_count": 10,
   "metadata": {},
   "outputs": [],
   "source": [
    "RESULTS_DIR = \"results/insertion_experiments/data/\""
   ]
  },
  {
   "cell_type": "code",
   "execution_count": 11,
   "metadata": {},
   "outputs": [],
   "source": [
    "files = os.listdir(RESULTS_DIR)"
   ]
  },
  {
   "cell_type": "code",
   "execution_count": 115,
   "metadata": {},
   "outputs": [],
   "source": [
    "# files.remove(\"all_results.json\")\n",
    "# files.remove(\"changename.txt\")"
   ]
  },
  {
   "cell_type": "code",
   "execution_count": 12,
   "metadata": {},
   "outputs": [],
   "source": [
    "all_results = []\n",
    "for file in files:\n",
    "    with open(os.path.join(RESULTS_DIR, file)) as f:\n",
    "        try:\n",
    "            results = json.load(f)\n",
    "            all_results.append(results)\n",
    "        except:\n",
    "            print(file)"
   ]
  },
  {
   "cell_type": "code",
   "execution_count": 13,
   "metadata": {},
   "outputs": [],
   "source": [
    "disc_models = sorted(all_results, key=lambda x: x[\"discrimination\"][0], reverse=True)\n",
    "ins_models = sorted(all_results, key=lambda x: x[\"insertion\"][0], reverse=True)"
   ]
  },
  {
   "cell_type": "code",
   "execution_count": 74,
   "metadata": {},
   "outputs": [],
   "source": [
    "# def trim_models(l, key, cutoff):\n",
    "#     temp = []\n",
    "#     for x in l:\n",
    "#         if x[key][0] > cutoff:\n",
    "#             temp.append(x)\n",
    "#         else:\n",
    "#             return temp\n",
    "#     return temp\n",
    "\n",
    "# trimmed_disc_models = trim_models(disc_models, \"discrimination\", 0.925)\n",
    "# trimmed_ins_models = trim_models(ins_models, \"insertion\", 0.3)\n",
    "\n",
    "# print(len(trimmed_disc_models), len(trimmed_ins_models))"
   ]
  },
  {
   "cell_type": "code",
   "execution_count": 14,
   "metadata": {},
   "outputs": [],
   "source": [
    "trimmed_ins_models = ins_models[:20]\n",
    "trimmed_disc_models = disc_models[:20]"
   ]
  },
  {
   "cell_type": "code",
   "execution_count": 15,
   "metadata": {},
   "outputs": [
    {
     "name": "stdout",
     "output_type": "stream",
     "text": [
      "{'hparams': {'loss': 'margin', 'input_dropout': 0.5, 'hidden_state': 500, 'hidden_layers': 1, 'hidden_dropout': 0.4000000000000001, 'num_epochs': 50, 'margin': 6.0, 'lr': 0.001, 'l2_reg_lambda': 0.0, 'use_bn': False, 'task': 'insertion', 'bidirectional': False, 'dpout_model': 0.05}, 'discrimination': [0.9303130929791271, [0.8889121338912134, 0.9290502793296089, 0.9807304785894206]], 'insertion': [0.3124241023790151, [0.4978423656770935, 0.21919521886637955, 0.13121009807745407]]}\n",
      "{'hparams': {'loss': 'margin', 'input_dropout': 0.5, 'hidden_state': 500, 'hidden_layers': 1, 'hidden_dropout': 0.4000000000000001, 'num_epochs': 50, 'margin': 6.0, 'lr': 0.001, 'l2_reg_lambda': 0.0, 'use_bn': False, 'task': 'insertion', 'bidirectional': False, 'dpout_model': 0.05}, 'discrimination': [0.9303130929791271, [0.8889121338912134, 0.9290502793296089, 0.9807304785894206]], 'insertion': [0.3124241023790151, [0.4978423656770935, 0.21919521886637955, 0.13121009807745407]]}\n"
     ]
    }
   ],
   "source": [
    "print(trimmed_disc_models[0])\n",
    "print(trimmed_ins_models[0])"
   ]
  },
  {
   "cell_type": "code",
   "execution_count": 22,
   "metadata": {},
   "outputs": [
    {
     "name": "stdout",
     "output_type": "stream",
     "text": [
      "True\n"
     ]
    }
   ],
   "source": [
    "print(trimmed_disc_models[0]==trimmed_ins_models[0])"
   ]
  },
  {
   "cell_type": "code",
   "execution_count": 16,
   "metadata": {},
   "outputs": [],
   "source": [
    "def get_params(l):\n",
    "    params = {k: [v] for k, v in l[0][\"hparams\"].items()}\n",
    "    for x in l:\n",
    "        for k, v in x[\"hparams\"].items():\n",
    "            if v not in params[k]:\n",
    "                params[k].append(v)\n",
    "    return params"
   ]
  },
  {
   "cell_type": "code",
   "execution_count": 17,
   "metadata": {},
   "outputs": [
    {
     "name": "stdout",
     "output_type": "stream",
     "text": [
      "{'loss': ['margin'], 'input_dropout': [0.5], 'hidden_state': [500], 'hidden_layers': [1, 2], 'hidden_dropout': [0.4000000000000001, 0.2, 0.30000000000000004], 'num_epochs': [50], 'margin': [6.0, 5.0, 4.0], 'lr': [0.001], 'l2_reg_lambda': [0.0], 'use_bn': [False], 'task': ['insertion'], 'bidirectional': [False], 'dpout_model': [0.05, 0.1, 0.0]}\n",
      "{'loss': ['margin'], 'input_dropout': [0.5], 'hidden_state': [500], 'hidden_layers': [1, 2], 'hidden_dropout': [0.4000000000000001, 0.2, 0.30000000000000004], 'num_epochs': [50], 'margin': [6.0, 4.0, 5.0], 'lr': [0.001], 'l2_reg_lambda': [0.0], 'use_bn': [False], 'task': ['insertion'], 'bidirectional': [False], 'dpout_model': [0.05, 0.1, 0.0]}\n"
     ]
    }
   ],
   "source": [
    "disc_params = get_params(trimmed_disc_models)\n",
    "ins_params = get_params(trimmed_ins_models)\n",
    "print(disc_params)\n",
    "print(ins_params)"
   ]
  },
  {
   "cell_type": "code",
   "execution_count": 18,
   "metadata": {},
   "outputs": [],
   "source": [
    "params_exp = [\n",
    "    \"input_dropout\",\n",
    "    \"hidden_layers\",\n",
    "    \"hidden_dropout\",\n",
    "    \"margin\",\n",
    "    \"l2_reg_lambda\",\n",
    "    \"dpout_model\",\n",
    "    \"task\",\n",
    "]"
   ]
  },
  {
   "cell_type": "code",
   "execution_count": 19,
   "metadata": {},
   "outputs": [],
   "source": [
    "def print_params(params, d):\n",
    "    def print_list(l):\n",
    "        s = \"\"\n",
    "        for x in l:\n",
    "            s += str(x) + \" > \"\n",
    "        return s[:-3]\n",
    "\n",
    "    for k, v in d.items():\n",
    "        if k in params:\n",
    "            print(f\"{k}: {print_list(v)}\")"
   ]
  },
  {
   "cell_type": "code",
   "execution_count": 20,
   "metadata": {},
   "outputs": [
    {
     "name": "stdout",
     "output_type": "stream",
     "text": [
      "input_dropout: 0.5\n",
      "hidden_layers: 1 > 2\n",
      "hidden_dropout: 0.4000000000000001 > 0.2 > 0.30000000000000004\n",
      "margin: 6.0 > 5.0 > 4.0\n",
      "l2_reg_lambda: 0.0\n",
      "task: insertion\n",
      "dpout_model: 0.05 > 0.1 > 0.0\n",
      "\n",
      "input_dropout: 0.5\n",
      "hidden_layers: 1 > 2\n",
      "hidden_dropout: 0.4000000000000001 > 0.2 > 0.30000000000000004\n",
      "margin: 6.0 > 4.0 > 5.0\n",
      "l2_reg_lambda: 0.0\n",
      "task: insertion\n",
      "dpout_model: 0.05 > 0.1 > 0.0\n"
     ]
    }
   ],
   "source": [
    "print_params(params_exp, disc_params)\n",
    "print()\n",
    "print_params(params_exp, ins_params)"
   ]
  },
  {
   "cell_type": "code",
   "execution_count": 21,
   "metadata": {},
   "outputs": [
    {
     "name": "stdout",
     "output_type": "stream",
     "text": [
      "['0.9303', '0.9289', '0.9288', '0.9286', '0.9284', '0.9271', '0.9265', '0.9263', '0.9263', '0.9259', '0.9259', '0.9258', '0.9258', '0.9258', '0.9251', '0.9251', '0.9251', '0.9245', '0.9241', '0.9239']\n",
      "\n",
      "['0.3124', '0.3093', '0.3085', '0.3056', '0.3050', '0.3050', '0.3050', '0.3040', '0.3039', '0.3035', '0.3031', '0.3030', '0.3028', '0.3025', '0.3025', '0.3021', '0.3019', '0.3016', '0.3011', '0.3010']\n"
     ]
    }
   ],
   "source": [
    "def print_scores(l, key):\n",
    "    print([f\"{x[key][0]:.4f}\" for x in l])\n",
    "\n",
    "\n",
    "print_scores(trimmed_disc_models, \"discrimination\")\n",
    "print()\n",
    "print_scores(trimmed_ins_models, \"insertion\")"
   ]
  },
  {
   "cell_type": "code",
   "execution_count": 88,
   "metadata": {},
   "outputs": [
    {
     "name": "stdout",
     "output_type": "stream",
     "text": [
      "input_dropout [0.5, 0.6, 0.7]\n",
      "hidden_layers [1, 2]\n",
      "hidden_dropout [0.2, 0.30000000000000004, 0.4000000000000001]\n",
      "margin [4.0, 5.0, 6.0]\n",
      "l2_reg_lambda [0.0, 0.1]\n",
      "dpout_model [0.0, 0.05, 0.1]\n",
      "task ['discrimination']\n"
     ]
    }
   ],
   "source": [
    "print(\"input_dropout\", np.arange(0.5, 0.71, 0.1).tolist())\n",
    "print(\"hidden_layers\", np.arange(1, 3).tolist())\n",
    "print(\"hidden_dropout\", np.arange(0.2, 0.41, 0.1).tolist())\n",
    "print(\"margin\", np.arange(4, 6.1, 1).tolist())\n",
    "print(\"l2_reg_lambda\", np.arange(0, 0.11, 0.1).tolist())\n",
    "print(\"dpout_model\", np.arange(0, 0.11, 0.05).tolist())\n",
    "print(\"task\", [\"discrimination\"])"
   ]
  },
  {
   "cell_type": "code",
   "execution_count": 99,
   "metadata": {},
   "outputs": [],
   "source": [
    "def read_json(path):\n",
    "    with open(path) as f:\n",
    "        return json.load(f)"
   ]
  },
  {
   "cell_type": "code",
   "execution_count": 107,
   "metadata": {},
   "outputs": [],
   "source": [
    "def print_json(d):\n",
    "    print(\" | \", d[\"discrimination\"][0], \" | \", d[\"insertion\"][0], \" | \")"
   ]
  },
  {
   "cell_type": "code",
   "execution_count": 110,
   "metadata": {},
   "outputs": [],
   "source": [
    "json_data = read_json(\"results/sigmoid/sigmoid-0.7988.json\")"
   ]
  },
  {
   "cell_type": "code",
   "execution_count": 111,
   "metadata": {},
   "outputs": [
    {
     "name": "stdout",
     "output_type": "stream",
     "text": [
      " |  0.8039373814041746  |  0.2146964623152086  | \n"
     ]
    }
   ],
   "source": [
    "print_json(json_data)"
   ]
  },
  {
   "cell_type": "code",
   "execution_count": 40,
   "metadata": {},
   "outputs": [],
   "source": [
    "scores = ['0.3091', '0.3082', '0.3072', '0.3069', '0.3069', '0.3068', '0.3064', '0.3062', '0.3059', '0.3054', '0.3054', '0.3048', '0.3048', '0.3046', '0.3043', '0.3042', '0.3041', '0.3040', '0.3036', '0.3036']\n",
    "t = pd.DataFrame({\"scores\":scores})\n",
    "t[\"scores\"] = t[\"scores\"].astype(float)\n",
    "x = t.describe()"
   ]
  },
  {
   "cell_type": "code",
   "execution_count": 41,
   "metadata": {},
   "outputs": [
    {
     "name": "stdout",
     "output_type": "stream",
     "text": [
      " |  count  |  20.0  | \n",
      " |  mean  |  0.30562000000000006  | \n",
      " |  std  |  0.001560903921652955  | \n",
      " |  min  |  0.3036  | \n",
      " |  25%  |  0.304275  | \n",
      " |  50%  |  0.3054  | \n",
      " |  75%  |  0.306825  | \n",
      " |  max  |  0.3091  | \n"
     ]
    }
   ],
   "source": [
    "for k,v in x[\"scores\"].to_dict().items():\n",
    "    print(\" | \", k, \" | \", v, \" | \")"
   ]
  }
 ],
 "metadata": {
  "kernelspec": {
   "display_name": "cssenv",
   "language": "python",
   "name": "cssenv"
  },
  "language_info": {
   "codemirror_mode": {
    "name": "ipython",
    "version": 3
   },
   "file_extension": ".py",
   "mimetype": "text/x-python",
   "name": "python",
   "nbconvert_exporter": "python",
   "pygments_lexer": "ipython3",
   "version": "3.8.10"
  }
 },
 "nbformat": 4,
 "nbformat_minor": 2
}
