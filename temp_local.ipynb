{
 "cells": [
  {
   "cell_type": "code",
   "execution_count": 1,
   "metadata": {},
   "outputs": [],
   "source": [
    "import json\n",
    "import pandas as pd\n",
    "import numpy as np\n",
    "import os\n",
    "from itertools import product"
   ]
  },
  {
   "cell_type": "code",
   "execution_count": 3,
   "metadata": {},
   "outputs": [],
   "source": [
    "scorer = [None, \"tanh\", \"sigmoid\"]\n",
    "encoders = [\"average_glove\", \"sbert\"]\n",
    "tasks = [\"discrimination\", \"insertion\"]\n",
    "bidirect = [False, True]\n",
    "\n",
    "\n",
    "def scorer_name(scorer):\n",
    "    if scorer is None:\n",
    "        return \"None\"\n",
    "    else:\n",
    "        return scorer\n",
    "\n",
    "\n",
    "# !!!!!!!!!!!!!!!!!!!!!!!!!!!!!!!!\n",
    "# ORDER IN product() IS IMPORTANT\n",
    "# list(enumerate(product(tasks, bidirect, scorer, encoders)))"
   ]
  },
  {
   "cell_type": "code",
   "execution_count": 56,
   "metadata": {},
   "outputs": [],
   "source": [
    "disc_scores = ['0.9204', '0.9232', '0.0952', '0.2989', '0.6148', '0.2711', '0.9259', '0.9268', '0.0001', '0.8070', '0.7130', '0.8113', '0.9185', '0.9226', '0.0000', '0.5872', '0.0581', '0.6704', '0.9191', '0.9245', '0.7525', '0.7852', '0.6717', '0.8125']\n",
    "\n",
    "ins_scores =['0.3028', '0.3139', '0.8153', '0.2798', '0.4915', '0.3196', '0.3091', '0.3130', '1.0000', '0.3134', '0.3809', '0.2484', '0.2993', '0.3164', '1.0000', '0.4079', '0.9511', '0.1794', '0.2929', '0.3239', '0.3163', '0.3211', '0.3519', '0.3122']"
   ]
  },
  {
   "cell_type": "code",
   "execution_count": 57,
   "metadata": {},
   "outputs": [],
   "source": [
    "disc_scores = [float(x) for x in disc_scores if x!='N/A']\n",
    "ins_scores = [float(x) for x in ins_scores if x!='N/A']"
   ]
  },
  {
   "cell_type": "code",
   "execution_count": 58,
   "metadata": {},
   "outputs": [],
   "source": [
    "while len(disc_scores) <24:\n",
    "    disc_scores.append('N/A')\n",
    "    ins_scores.append('N/A')"
   ]
  },
  {
   "cell_type": "code",
   "execution_count": 60,
   "metadata": {},
   "outputs": [],
   "source": [
    "avg_scores = [(d_score+i_score)/2 for d_score, i_score in zip(disc_scores, ins_scores)]"
   ]
  },
  {
   "cell_type": "code",
   "execution_count": 61,
   "metadata": {},
   "outputs": [
    {
     "name": "stdout",
     "output_type": "stream",
     "text": [
      " |  discrimination |  False |  None |  average_glove |  0.9204 |  0.3028 |  0.6116\n",
      " |  discrimination |  False |  None |  sbert |  0.9232 |  0.3139 |  0.61855\n",
      " |  discrimination |  False |  tanh |  average_glove |  0.0952 |  0.8153 |  0.45525000000000004\n",
      " |  discrimination |  False |  tanh |  sbert |  0.2989 |  0.2798 |  0.28935\n",
      " |  discrimination |  False |  sigmoid |  average_glove |  0.6148 |  0.4915 |  0.55315\n",
      " |  discrimination |  False |  sigmoid |  sbert |  0.2711 |  0.3196 |  0.29535\n",
      " |  discrimination |  True |  None |  average_glove |  0.9259 |  0.3091 |  0.6174999999999999\n",
      " |  discrimination |  True |  None |  sbert |  0.9268 |  0.313 |  0.6199\n",
      " |  discrimination |  True |  tanh |  average_glove |  0.0001 |  1.0 |  0.50005\n",
      " |  discrimination |  True |  tanh |  sbert |  0.807 |  0.3134 |  0.5602\n",
      " |  discrimination |  True |  sigmoid |  average_glove |  0.713 |  0.3809 |  0.54695\n",
      " |  discrimination |  True |  sigmoid |  sbert |  0.8113 |  0.2484 |  0.52985\n",
      " |  insertion |  False |  None |  average_glove |  0.9185 |  0.2993 |  0.6089\n",
      " |  insertion |  False |  None |  sbert |  0.9226 |  0.3164 |  0.6194999999999999\n",
      " |  insertion |  False |  tanh |  average_glove |  0.0 |  1.0 |  0.5\n",
      " |  insertion |  False |  tanh |  sbert |  0.5872 |  0.4079 |  0.49755000000000005\n",
      " |  insertion |  False |  sigmoid |  average_glove |  0.0581 |  0.9511 |  0.5045999999999999\n",
      " |  insertion |  False |  sigmoid |  sbert |  0.6704 |  0.1794 |  0.4249\n",
      " |  insertion |  True |  None |  average_glove |  0.9191 |  0.2929 |  0.606\n",
      " |  insertion |  True |  None |  sbert |  0.9245 |  0.3239 |  0.6242\n",
      " |  insertion |  True |  tanh |  average_glove |  0.7525 |  0.3163 |  0.5344\n",
      " |  insertion |  True |  tanh |  sbert |  0.7852 |  0.3211 |  0.55315\n",
      " |  insertion |  True |  sigmoid |  average_glove |  0.6717 |  0.3519 |  0.5118\n",
      " |  insertion |  True |  sigmoid |  sbert |  0.8125 |  0.3122 |  0.56235\n"
     ]
    }
   ],
   "source": [
    "def print_list(l, newline=True):\n",
    "    for x in l:\n",
    "        print(\" | \", x, end=\"\")\n",
    "    if newline:\n",
    "        print()\n",
    "for i, x in enumerate(zip(product(tasks, bidirect, scorer, encoders), disc_scores, ins_scores)):\n",
    "    # print(i, end=\"\")\n",
    "    x, d_score, i_score = x\n",
    "    print_list(x, newline=False)\n",
    "    print_list([d_score, i_score,avg_scores[i]])"
   ]
  },
  {
   "cell_type": "code",
   "execution_count": 62,
   "metadata": {},
   "outputs": [
    {
     "name": "stdout",
     "output_type": "stream",
     "text": [
      "7 0.9268\n",
      "8 1.0\n",
      "19 0.6242\n",
      "8 1.0\n",
      "7 0.9245\n"
     ]
    }
   ],
   "source": [
    "trim_disc_scores = [float(x) for x in disc_scores if x!='N/A']\n",
    "trim_ins_scores = [float(x) for x in ins_scores if x!='N/A']\n",
    "print(np.argmax(trim_disc_scores), max(trim_disc_scores))\n",
    "print(np.argmax(trim_ins_scores), max(trim_ins_scores))\n",
    "print(np.argmax(avg_scores), max(avg_scores))\n",
    "# Cross testing\n",
    "disc_vals = trim_disc_scores[12:]\n",
    "ins_vals = trim_ins_scores[:12]\n",
    "print(np.argmax(ins_vals), max(ins_vals))\n",
    "print(np.argmax(disc_vals), max(disc_vals))\n"
   ]
  },
  {
   "cell_type": "code",
   "execution_count": 8,
   "metadata": {},
   "outputs": [
    {
     "name": "stdout",
     "output_type": "stream",
     "text": [
      "[0.5, 0.6, 0.7] [1, 2] [0.2, 0.30000000000000004, 0.4000000000000001] [4.0, 5.0, 6.0] [0.0, 0.1] [0.0, 0.05, 0.1] ['insertion']\n"
     ]
    }
   ],
   "source": [
    "input_dropout = np.arange(0.5, 0.71, 0.1).tolist()\n",
    "hidden_layers = np.arange(1, 3).tolist()\n",
    "hidden_dropout = np.arange(0.2, 0.41, 0.1).tolist()\n",
    "margin = np.arange(4, 6.1, 1).tolist()\n",
    "l2_reg_lambda = np.arange(0, 0.11, 0.1).tolist()\n",
    "dpout_model = np.arange(0, 0.11, 0.05).tolist()\n",
    "task = [\"insertion\"]\n",
    "\n",
    "print(\n",
    "        input_dropout,\n",
    "        hidden_layers,\n",
    "        hidden_dropout,\n",
    "        margin,\n",
    "        l2_reg_lambda,\n",
    "        dpout_model,\n",
    "        task,\n",
    "    )"
   ]
  },
  {
   "cell_type": "code",
   "execution_count": 9,
   "metadata": {},
   "outputs": [
    {
     "data": {
      "text/plain": [
       "(60, (0.5, 2, 0.2, 5.0, 0.0, 0.0, 'insertion'))"
      ]
     },
     "execution_count": 9,
     "metadata": {},
     "output_type": "execute_result"
    }
   ],
   "source": [
    "list(enumerate(\n",
    "    product(\n",
    "        input_dropout,\n",
    "        hidden_layers,\n",
    "        hidden_dropout,\n",
    "        margin,\n",
    "        l2_reg_lambda,\n",
    "        dpout_model,\n",
    "        task,\n",
    "    )\n",
    "))[60]"
   ]
  },
  {
   "cell_type": "code",
   "execution_count": 45,
   "metadata": {},
   "outputs": [],
   "source": [
    "RESULTS_DIR = \"results/after_tuning/data/\""
   ]
  },
  {
   "cell_type": "code",
   "execution_count": 46,
   "metadata": {},
   "outputs": [],
   "source": [
    "files = os.listdir(RESULTS_DIR)"
   ]
  },
  {
   "cell_type": "code",
   "execution_count": 47,
   "metadata": {},
   "outputs": [],
   "source": [
    "files = sorted(files, key=lambda x: int(x.split(\"-\")[0]))"
   ]
  },
  {
   "cell_type": "code",
   "execution_count": 48,
   "metadata": {},
   "outputs": [
    {
     "name": "stdout",
     "output_type": "stream",
     "text": [
      "['0-None-average_glove-0.9432.json', '1-None-sbert-0.9223.json', '2-tanh-average_glove-0.4207.json', '3-tanh-sbert-0.3523.json', '4-sigmoid-average_glove-0.6781.json', '5-sigmoid-sbert-0.3463.json', '6-None-average_glove-0.9356.json', '7-None-sbert-0.9318.json', '8-tanh-average_glove-0.3647.json', '9-tanh-sbert-0.8211.json', '10-sigmoid-average_glove-0.7828.json', '11-sigmoid-sbert-0.8268.json', '12-None-average_glove-0.2978.json', '13-None-sbert-0.3091.json', '14-tanh-average_glove-1.0000.json', '15-tanh-sbert-1.0000.json', '16-sigmoid-average_glove-0.9647.json', '17-sigmoid-sbert-0.5314.json', '18-None-average_glove-0.2859.json', '19-None-sbert-0.2991.json', '20-tanh-average_glove-0.4575.json', '21-tanh-sbert-0.4115.json', '22-sigmoid-average_glove-0.5820.json']\n"
     ]
    }
   ],
   "source": [
    "print(files[:23])"
   ]
  },
  {
   "cell_type": "code",
   "execution_count": 115,
   "metadata": {},
   "outputs": [],
   "source": [
    "# files.remove(\"all_results.json\")\n",
    "# files.remove(\"changename.txt\")"
   ]
  },
  {
   "cell_type": "code",
   "execution_count": 49,
   "metadata": {},
   "outputs": [],
   "source": [
    "all_results = []\n",
    "for file in files:\n",
    "    with open(os.path.join(RESULTS_DIR, file)) as f:\n",
    "        try:\n",
    "            results = json.load(f)\n",
    "            all_results.append(results)\n",
    "        except:\n",
    "            print(file)"
   ]
  },
  {
   "cell_type": "code",
   "execution_count": 50,
   "metadata": {},
   "outputs": [],
   "source": [
    "def print_scores(l, key):\n",
    "    print([f\"{x[key][0]:.4f}\" for x in l])"
   ]
  },
  {
   "cell_type": "code",
   "execution_count": 51,
   "metadata": {},
   "outputs": [
    {
     "name": "stdout",
     "output_type": "stream",
     "text": [
      "['0.9204', '0.9232', '0.0952', '0.2989', '0.6148', '0.2711', '0.9259', '0.9268', '0.0001', '0.8070', '0.7130', '0.8113', '0.9185', '0.9226', '0.0000', '0.5872', '0.0581', '0.6704', '0.9191', '0.9245', '0.7525', '0.7852', '0.6717', '0.8125']\n",
      "['0.3028', '0.3139', '0.8153', '0.2798', '0.4915', '0.3196', '0.3091', '0.3130', '1.0000', '0.3134', '0.3809', '0.2484', '0.2993', '0.3164', '1.0000', '0.4079', '0.9511', '0.1794', '0.2929', '0.3239', '0.3163', '0.3211', '0.3519', '0.3122']\n"
     ]
    }
   ],
   "source": [
    "print_scores(all_results, \"discrimination\")\n",
    "print_scores(all_results, \"insertion\")"
   ]
  },
  {
   "cell_type": "code",
   "execution_count": 13,
   "metadata": {},
   "outputs": [],
   "source": [
    "disc_models = sorted(all_results, key=lambda x: x[\"discrimination\"][0], reverse=True)\n",
    "ins_models = sorted(all_results, key=lambda x: x[\"insertion\"][0], reverse=True)"
   ]
  },
  {
   "cell_type": "code",
   "execution_count": 74,
   "metadata": {},
   "outputs": [],
   "source": [
    "# def trim_models(l, key, cutoff):\n",
    "#     temp = []\n",
    "#     for x in l:\n",
    "#         if x[key][0] > cutoff:\n",
    "#             temp.append(x)\n",
    "#         else:\n",
    "#             return temp\n",
    "#     return temp\n",
    "\n",
    "# trimmed_disc_models = trim_models(disc_models, \"discrimination\", 0.925)\n",
    "# trimmed_ins_models = trim_models(ins_models, \"insertion\", 0.3)\n",
    "\n",
    "# print(len(trimmed_disc_models), len(trimmed_ins_models))"
   ]
  },
  {
   "cell_type": "code",
   "execution_count": 14,
   "metadata": {},
   "outputs": [],
   "source": [
    "trimmed_ins_models = ins_models[:20]\n",
    "trimmed_disc_models = disc_models[:20]"
   ]
  },
  {
   "cell_type": "code",
   "execution_count": 15,
   "metadata": {},
   "outputs": [
    {
     "name": "stdout",
     "output_type": "stream",
     "text": [
      "{'hparams': {'loss': 'margin', 'input_dropout': 0.5, 'hidden_state': 500, 'hidden_layers': 1, 'hidden_dropout': 0.4000000000000001, 'num_epochs': 50, 'margin': 6.0, 'lr': 0.001, 'l2_reg_lambda': 0.0, 'use_bn': False, 'task': 'insertion', 'bidirectional': False, 'dpout_model': 0.05}, 'discrimination': [0.9303130929791271, [0.8889121338912134, 0.9290502793296089, 0.9807304785894206]], 'insertion': [0.3124241023790151, [0.4978423656770935, 0.21919521886637955, 0.13121009807745407]]}\n",
      "{'hparams': {'loss': 'margin', 'input_dropout': 0.5, 'hidden_state': 500, 'hidden_layers': 1, 'hidden_dropout': 0.4000000000000001, 'num_epochs': 50, 'margin': 6.0, 'lr': 0.001, 'l2_reg_lambda': 0.0, 'use_bn': False, 'task': 'insertion', 'bidirectional': False, 'dpout_model': 0.05}, 'discrimination': [0.9303130929791271, [0.8889121338912134, 0.9290502793296089, 0.9807304785894206]], 'insertion': [0.3124241023790151, [0.4978423656770935, 0.21919521886637955, 0.13121009807745407]]}\n"
     ]
    }
   ],
   "source": [
    "print(trimmed_disc_models[0])\n",
    "print(trimmed_ins_models[0])"
   ]
  },
  {
   "cell_type": "code",
   "execution_count": 22,
   "metadata": {},
   "outputs": [
    {
     "name": "stdout",
     "output_type": "stream",
     "text": [
      "True\n"
     ]
    }
   ],
   "source": [
    "print(trimmed_disc_models[0]==trimmed_ins_models[0])"
   ]
  },
  {
   "cell_type": "code",
   "execution_count": 16,
   "metadata": {},
   "outputs": [],
   "source": [
    "def get_params(l):\n",
    "    params = {k: [v] for k, v in l[0][\"hparams\"].items()}\n",
    "    for x in l:\n",
    "        for k, v in x[\"hparams\"].items():\n",
    "            if v not in params[k]:\n",
    "                params[k].append(v)\n",
    "    return params"
   ]
  },
  {
   "cell_type": "code",
   "execution_count": 17,
   "metadata": {},
   "outputs": [
    {
     "name": "stdout",
     "output_type": "stream",
     "text": [
      "{'loss': ['margin'], 'input_dropout': [0.5], 'hidden_state': [500], 'hidden_layers': [1, 2], 'hidden_dropout': [0.4000000000000001, 0.2, 0.30000000000000004], 'num_epochs': [50], 'margin': [6.0, 5.0, 4.0], 'lr': [0.001], 'l2_reg_lambda': [0.0], 'use_bn': [False], 'task': ['insertion'], 'bidirectional': [False], 'dpout_model': [0.05, 0.1, 0.0]}\n",
      "{'loss': ['margin'], 'input_dropout': [0.5], 'hidden_state': [500], 'hidden_layers': [1, 2], 'hidden_dropout': [0.4000000000000001, 0.2, 0.30000000000000004], 'num_epochs': [50], 'margin': [6.0, 4.0, 5.0], 'lr': [0.001], 'l2_reg_lambda': [0.0], 'use_bn': [False], 'task': ['insertion'], 'bidirectional': [False], 'dpout_model': [0.05, 0.1, 0.0]}\n"
     ]
    }
   ],
   "source": [
    "disc_params = get_params(trimmed_disc_models)\n",
    "ins_params = get_params(trimmed_ins_models)\n",
    "print(disc_params)\n",
    "print(ins_params)"
   ]
  },
  {
   "cell_type": "code",
   "execution_count": 18,
   "metadata": {},
   "outputs": [],
   "source": [
    "params_exp = [\n",
    "    \"input_dropout\",\n",
    "    \"hidden_layers\",\n",
    "    \"hidden_dropout\",\n",
    "    \"margin\",\n",
    "    \"l2_reg_lambda\",\n",
    "    \"dpout_model\",\n",
    "    \"task\",\n",
    "]"
   ]
  },
  {
   "cell_type": "code",
   "execution_count": 19,
   "metadata": {},
   "outputs": [],
   "source": [
    "def print_params(params, d):\n",
    "    def print_list(l):\n",
    "        s = \"\"\n",
    "        for x in l:\n",
    "            s += str(x) + \" > \"\n",
    "        return s[:-3]\n",
    "\n",
    "    for k, v in d.items():\n",
    "        if k in params:\n",
    "            print(f\"{k}: {print_list(v)}\")"
   ]
  },
  {
   "cell_type": "code",
   "execution_count": 20,
   "metadata": {},
   "outputs": [
    {
     "name": "stdout",
     "output_type": "stream",
     "text": [
      "input_dropout: 0.5\n",
      "hidden_layers: 1 > 2\n",
      "hidden_dropout: 0.4000000000000001 > 0.2 > 0.30000000000000004\n",
      "margin: 6.0 > 5.0 > 4.0\n",
      "l2_reg_lambda: 0.0\n",
      "task: insertion\n",
      "dpout_model: 0.05 > 0.1 > 0.0\n",
      "\n",
      "input_dropout: 0.5\n",
      "hidden_layers: 1 > 2\n",
      "hidden_dropout: 0.4000000000000001 > 0.2 > 0.30000000000000004\n",
      "margin: 6.0 > 4.0 > 5.0\n",
      "l2_reg_lambda: 0.0\n",
      "task: insertion\n",
      "dpout_model: 0.05 > 0.1 > 0.0\n"
     ]
    }
   ],
   "source": [
    "print_params(params_exp, disc_params)\n",
    "print()\n",
    "print_params(params_exp, ins_params)"
   ]
  },
  {
   "cell_type": "code",
   "execution_count": null,
   "metadata": {},
   "outputs": [],
   "source": [
    "\n",
    "print_scores(trimmed_disc_models, \"discrimination\")\n",
    "print()\n",
    "print_scores(trimmed_ins_models, \"insertion\")"
   ]
  },
  {
   "cell_type": "code",
   "execution_count": 88,
   "metadata": {},
   "outputs": [
    {
     "name": "stdout",
     "output_type": "stream",
     "text": [
      "input_dropout [0.5, 0.6, 0.7]\n",
      "hidden_layers [1, 2]\n",
      "hidden_dropout [0.2, 0.30000000000000004, 0.4000000000000001]\n",
      "margin [4.0, 5.0, 6.0]\n",
      "l2_reg_lambda [0.0, 0.1]\n",
      "dpout_model [0.0, 0.05, 0.1]\n",
      "task ['discrimination']\n"
     ]
    }
   ],
   "source": [
    "print(\"input_dropout\", np.arange(0.5, 0.71, 0.1).tolist())\n",
    "print(\"hidden_layers\", np.arange(1, 3).tolist())\n",
    "print(\"hidden_dropout\", np.arange(0.2, 0.41, 0.1).tolist())\n",
    "print(\"margin\", np.arange(4, 6.1, 1).tolist())\n",
    "print(\"l2_reg_lambda\", np.arange(0, 0.11, 0.1).tolist())\n",
    "print(\"dpout_model\", np.arange(0, 0.11, 0.05).tolist())\n",
    "print(\"task\", [\"discrimination\"])"
   ]
  },
  {
   "cell_type": "code",
   "execution_count": 99,
   "metadata": {},
   "outputs": [],
   "source": [
    "def read_json(path):\n",
    "    with open(path) as f:\n",
    "        return json.load(f)"
   ]
  },
  {
   "cell_type": "code",
   "execution_count": 107,
   "metadata": {},
   "outputs": [],
   "source": [
    "def print_json(d):\n",
    "    print(\" | \", d[\"discrimination\"][0], \" | \", d[\"insertion\"][0], \" | \")"
   ]
  },
  {
   "cell_type": "code",
   "execution_count": 110,
   "metadata": {},
   "outputs": [],
   "source": [
    "json_data = read_json(\"results/sigmoid/sigmoid-0.7988.json\")"
   ]
  },
  {
   "cell_type": "code",
   "execution_count": 111,
   "metadata": {},
   "outputs": [
    {
     "name": "stdout",
     "output_type": "stream",
     "text": [
      " |  0.8039373814041746  |  0.2146964623152086  | \n"
     ]
    }
   ],
   "source": [
    "print_json(json_data)"
   ]
  },
  {
   "cell_type": "code",
   "execution_count": 40,
   "metadata": {},
   "outputs": [],
   "source": [
    "scores = ['0.3091', '0.3082', '0.3072', '0.3069', '0.3069', '0.3068', '0.3064', '0.3062', '0.3059', '0.3054', '0.3054', '0.3048', '0.3048', '0.3046', '0.3043', '0.3042', '0.3041', '0.3040', '0.3036', '0.3036']\n",
    "t = pd.DataFrame({\"scores\":scores})\n",
    "t[\"scores\"] = t[\"scores\"].astype(float)\n",
    "x = t.describe()"
   ]
  },
  {
   "cell_type": "code",
   "execution_count": 41,
   "metadata": {},
   "outputs": [
    {
     "name": "stdout",
     "output_type": "stream",
     "text": [
      " |  count  |  20.0  | \n",
      " |  mean  |  0.30562000000000006  | \n",
      " |  std  |  0.001560903921652955  | \n",
      " |  min  |  0.3036  | \n",
      " |  25%  |  0.304275  | \n",
      " |  50%  |  0.3054  | \n",
      " |  75%  |  0.306825  | \n",
      " |  max  |  0.3091  | \n"
     ]
    }
   ],
   "source": [
    "for k,v in x[\"scores\"].to_dict().items():\n",
    "    print(\" | \", k, \" | \", v, \" | \")"
   ]
  }
 ],
 "metadata": {
  "kernelspec": {
   "display_name": "cssenv",
   "language": "python",
   "name": "cssenv"
  },
  "language_info": {
   "codemirror_mode": {
    "name": "ipython",
    "version": 3
   },
   "file_extension": ".py",
   "mimetype": "text/x-python",
   "name": "python",
   "nbconvert_exporter": "python",
   "pygments_lexer": "ipython3",
   "version": "3.8.10"
  }
 },
 "nbformat": 4,
 "nbformat_minor": 2
}
