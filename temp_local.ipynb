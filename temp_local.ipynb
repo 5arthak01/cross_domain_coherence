{
 "cells": [
  {
   "cell_type": "code",
   "execution_count": 23,
   "metadata": {},
   "outputs": [],
   "source": [
    "import json\n",
    "import pandas as pd\n",
    "import numpy as np\n",
    "import os"
   ]
  },
  {
   "cell_type": "code",
   "execution_count": 3,
   "metadata": {},
   "outputs": [],
   "source": [
    "RESULTS_DIR = \"results/results_discrimination/data\""
   ]
  },
  {
   "cell_type": "code",
   "execution_count": 4,
   "metadata": {},
   "outputs": [],
   "source": [
    "files = os.listdir(RESULTS_DIR)"
   ]
  },
  {
   "cell_type": "code",
   "execution_count": 48,
   "metadata": {},
   "outputs": [],
   "source": [
    "files.remove(\"all_results.json\")\n",
    "files.remove(\"changename.txt\")"
   ]
  },
  {
   "cell_type": "code",
   "execution_count": 49,
   "metadata": {},
   "outputs": [],
   "source": [
    "all_results = []\n",
    "for file in files:\n",
    "    with open(os.path.join(RESULTS_DIR, file)) as f:\n",
    "        try:\n",
    "            results = json.load(f)\n",
    "            all_results.append(results)\n",
    "        except:\n",
    "            print(file)"
   ]
  },
  {
   "cell_type": "code",
   "execution_count": 53,
   "metadata": {},
   "outputs": [],
   "source": [
    "disc_models = sorted(all_results, key=lambda x: x[\"discrimination\"][0], reverse=True)\n",
    "ins_models = sorted(all_results, key=lambda x: x[\"insertion\"][0], reverse=True)"
   ]
  },
  {
   "cell_type": "code",
   "execution_count": 74,
   "metadata": {},
   "outputs": [],
   "source": [
    "# def trim_models(l, key, cutoff):\n",
    "#     temp = []\n",
    "#     for x in l:\n",
    "#         if x[key][0] > cutoff:\n",
    "#             temp.append(x)\n",
    "#         else:\n",
    "#             return temp\n",
    "#     return temp\n",
    "\n",
    "# trimmed_disc_models = trim_models(disc_models, \"discrimination\", 0.925)\n",
    "# trimmed_ins_models = trim_models(ins_models, \"insertion\", 0.3)\n",
    "\n",
    "# print(len(trimmed_disc_models), len(trimmed_ins_models))\n"
   ]
  },
  {
   "cell_type": "code",
   "execution_count": 76,
   "metadata": {},
   "outputs": [],
   "source": [
    "trimmed_ins_models = ins_models[:20]\n",
    "trimmed_disc_models = disc_models[:20]"
   ]
  },
  {
   "cell_type": "code",
   "execution_count": 89,
   "metadata": {},
   "outputs": [
    {
     "name": "stdout",
     "output_type": "stream",
     "text": [
      "{'hparams': {'loss': 'margin', 'input_dropout': 0.5, 'hidden_state': 500, 'hidden_layers': 2, 'hidden_dropout': 0.30000000000000004, 'num_epochs': 50, 'margin': 6.0, 'lr': 0.001, 'l2_reg_lambda': 0.0, 'use_bn': False, 'task': 'discrimination', 'bidirectional': False, 'dpout_model': 0.0}, 'discrimination': [0.9291271347248576, [0.8881799163179916, 0.9248603351955307, 0.980352644836272]], 'insertion': [0.30914630954998895, [0.49057581191472405, 0.23112018911437762, 0.12588024765485295]]}\n",
      "{'hparams': {'loss': 'margin', 'input_dropout': 0.5, 'hidden_state': 500, 'hidden_layers': 2, 'hidden_dropout': 0.30000000000000004, 'num_epochs': 50, 'margin': 6.0, 'lr': 0.001, 'l2_reg_lambda': 0.0, 'use_bn': False, 'task': 'discrimination', 'bidirectional': False, 'dpout_model': 0.0}, 'discrimination': [0.9291271347248576, [0.8881799163179916, 0.9248603351955307, 0.980352644836272]], 'insertion': [0.30914630954998895, [0.49057581191472405, 0.23112018911437762, 0.12588024765485295]]}\n"
     ]
    }
   ],
   "source": [
    "print(trimmed_disc_models[0])\n",
    "print(trimmed_ins_models[0])"
   ]
  },
  {
   "cell_type": "code",
   "execution_count": 82,
   "metadata": {},
   "outputs": [],
   "source": [
    "def get_params(l):\n",
    "    params = {k:[v] for k,v in l[0][\"hparams\"].items()}\n",
    "    for x in l:\n",
    "        for k,v in x[\"hparams\"].items():\n",
    "            if v not in params[k]:\n",
    "                params[k].append(v)\n",
    "    return params            "
   ]
  },
  {
   "cell_type": "code",
   "execution_count": 83,
   "metadata": {},
   "outputs": [
    {
     "name": "stdout",
     "output_type": "stream",
     "text": [
      "{'loss': ['margin'], 'input_dropout': [0.5, 0.6], 'hidden_state': [500], 'hidden_layers': [2, 1], 'hidden_dropout': [0.30000000000000004, 0.2, 0.4000000000000001], 'num_epochs': [50], 'margin': [6.0, 4.0, 5.0], 'lr': [0.001], 'l2_reg_lambda': [0.0], 'use_bn': [False], 'task': ['discrimination'], 'bidirectional': [False], 'dpout_model': [0.0, 0.1, 0.05]}\n",
      "{'loss': ['margin'], 'input_dropout': [0.5, 0.6], 'hidden_state': [500], 'hidden_layers': [2, 1], 'hidden_dropout': [0.30000000000000004, 0.4000000000000001, 0.2], 'num_epochs': [50], 'margin': [6.0, 4.0, 5.0], 'lr': [0.001], 'l2_reg_lambda': [0.0], 'use_bn': [False], 'task': ['discrimination'], 'bidirectional': [False], 'dpout_model': [0.0, 0.1, 0.05]}\n"
     ]
    }
   ],
   "source": [
    "disc_params = get_params(trimmed_disc_models)\n",
    "ins_params = get_params(trimmed_ins_models)\n",
    "print(disc_params)\n",
    "print(ins_params)"
   ]
  },
  {
   "cell_type": "code",
   "execution_count": 84,
   "metadata": {},
   "outputs": [],
   "source": [
    "params_exp = [\"input_dropout\",\"hidden_layers\",\"hidden_dropout\",\"margin\",\"l2_reg_lambda\",\"dpout_model\",\"task\"]"
   ]
  },
  {
   "cell_type": "code",
   "execution_count": 90,
   "metadata": {},
   "outputs": [],
   "source": [
    "def print_params(params, d):\n",
    "    def print_list(l):\n",
    "        s = \"\"\n",
    "        for x in l:\n",
    "            s += str(x) + \" > \"\n",
    "        return s[:-3]\n",
    "\n",
    "    for k,v in d.items():\n",
    "        if k in params:\n",
    "            print(f\"{k}: {print_list(v)}\")"
   ]
  },
  {
   "cell_type": "code",
   "execution_count": 91,
   "metadata": {},
   "outputs": [
    {
     "name": "stdout",
     "output_type": "stream",
     "text": [
      "input_dropout: 0.5 > 0.6\n",
      "hidden_layers: 2 > 1\n",
      "hidden_dropout: 0.30000000000000004 > 0.2 > 0.4000000000000001\n",
      "margin: 6.0 > 4.0 > 5.0\n",
      "l2_reg_lambda: 0.0\n",
      "task: discrimination\n",
      "dpout_model: 0.0 > 0.1 > 0.05\n",
      "\n",
      "input_dropout: 0.5 > 0.6\n",
      "hidden_layers: 2 > 1\n",
      "hidden_dropout: 0.30000000000000004 > 0.4000000000000001 > 0.2\n",
      "margin: 6.0 > 4.0 > 5.0\n",
      "l2_reg_lambda: 0.0\n",
      "task: discrimination\n",
      "dpout_model: 0.0 > 0.1 > 0.05\n"
     ]
    }
   ],
   "source": [
    "print_params(params_exp,disc_params)\n",
    "print()\n",
    "print_params(params_exp,ins_params)"
   ]
  },
  {
   "cell_type": "code",
   "execution_count": 93,
   "metadata": {},
   "outputs": [
    {
     "name": "stdout",
     "output_type": "stream",
     "text": [
      "['0.9291', '0.9286', '0.9279', '0.9274', '0.9269', '0.9269', '0.9265', '0.9265', '0.9264', '0.9264', '0.9263', '0.9263', '0.9259', '0.9259', '0.9259', '0.9257', '0.9256', '0.9254', '0.9252', '0.9250']\n",
      "\n",
      "['0.3091', '0.3082', '0.3072', '0.3069', '0.3069', '0.3068', '0.3064', '0.3062', '0.3059', '0.3054', '0.3054', '0.3048', '0.3048', '0.3046', '0.3043', '0.3042', '0.3041', '0.3040', '0.3036', '0.3036']\n"
     ]
    }
   ],
   "source": [
    "def print_scores(l, key):\n",
    "    print([f\"{x[key][0]:.4f}\" for x in l])\n",
    "\n",
    "print_scores(trimmed_disc_models, \"discrimination\")\n",
    "print()\n",
    "print_scores(trimmed_ins_models, \"insertion\")"
   ]
  },
  {
   "cell_type": "code",
   "execution_count": 94,
   "metadata": {},
   "outputs": [
    {
     "data": {
      "text/plain": [
       "{'hparams': {'loss': 'margin',\n",
       "  'input_dropout': 0.5,\n",
       "  'hidden_state': 500,\n",
       "  'hidden_layers': 2,\n",
       "  'hidden_dropout': 0.30000000000000004,\n",
       "  'num_epochs': 50,\n",
       "  'margin': 6.0,\n",
       "  'lr': 0.001,\n",
       "  'l2_reg_lambda': 0.0,\n",
       "  'use_bn': False,\n",
       "  'task': 'discrimination',\n",
       "  'bidirectional': False,\n",
       "  'dpout_model': 0.0},\n",
       " 'discrimination': [0.9291271347248576,\n",
       "  [0.8881799163179916, 0.9248603351955307, 0.980352644836272]],\n",
       " 'insertion': [0.30914630954998895,\n",
       "  [0.49057581191472405, 0.23112018911437762, 0.12588024765485295]]}"
      ]
     },
     "execution_count": 94,
     "metadata": {},
     "output_type": "execute_result"
    }
   ],
   "source": [
    "trimmed_disc_models[0]"
   ]
  },
  {
   "cell_type": "code",
   "execution_count": 88,
   "metadata": {},
   "outputs": [
    {
     "name": "stdout",
     "output_type": "stream",
     "text": [
      "input_dropout [0.5, 0.6, 0.7]\n",
      "hidden_layers [1, 2]\n",
      "hidden_dropout [0.2, 0.30000000000000004, 0.4000000000000001]\n",
      "margin [4.0, 5.0, 6.0]\n",
      "l2_reg_lambda [0.0, 0.1]\n",
      "dpout_model [0.0, 0.05, 0.1]\n",
      "task ['discrimination']\n"
     ]
    }
   ],
   "source": [
    "print(\"input_dropout\", np.arange(0.5, 0.71, 0.1).tolist())\n",
    "print(\"hidden_layers\", np.arange(1, 3).tolist())\n",
    "print(\"hidden_dropout\", np.arange(0.2, 0.41, 0.1).tolist())\n",
    "print(\"margin\", np.arange(4, 6.1, 1).tolist())\n",
    "print(\"l2_reg_lambda\", np.arange(0, 0.11, 0.1).tolist())\n",
    "print(\"dpout_model\", np.arange(0, 0.11, 0.05).tolist())\n",
    "print(\"task\", [\"discrimination\"])"
   ]
  }
 ],
 "metadata": {
  "kernelspec": {
   "display_name": "cssenv",
   "language": "python",
   "name": "cssenv"
  },
  "language_info": {
   "codemirror_mode": {
    "name": "ipython",
    "version": 3
   },
   "file_extension": ".py",
   "mimetype": "text/x-python",
   "name": "python",
   "nbconvert_exporter": "python",
   "pygments_lexer": "ipython3",
   "version": "3.8.10"
  },
  "orig_nbformat": 4
 },
 "nbformat": 4,
 "nbformat_minor": 2
}
